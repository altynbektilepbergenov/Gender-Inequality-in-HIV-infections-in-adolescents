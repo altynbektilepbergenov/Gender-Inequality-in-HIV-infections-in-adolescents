{
  "nbformat": 4,
  "nbformat_minor": 0,
  "metadata": {
    "colab": {
      "name": "HIV infection calculations.ipynb",
      "provenance": [],
      "authorship_tag": "ABX9TyMFMoxaICzVjbXlzRQ6DZaF",
      "include_colab_link": true
    },
    "kernelspec": {
      "name": "python3",
      "display_name": "Python 3"
    },
    "language_info": {
      "name": "python"
    }
  },
  "cells": [
    {
      "cell_type": "markdown",
      "metadata": {
        "id": "view-in-github",
        "colab_type": "text"
      },
      "source": [
        "<a href=\"https://colab.research.google.com/github/altynbektilepbergenov/Gender-Inequality-in-HIV-infections-in-adolescents/blob/main/HIV_infection_calculations.ipynb\" target=\"_parent\"><img src=\"https://colab.research.google.com/assets/colab-badge.svg\" alt=\"Open In Colab\"/></a>"
      ]
    },
    {
      "cell_type": "code",
      "metadata": {
        "colab": {
          "base_uri": "https://localhost:8080/"
        },
        "id": "JRYsa8KBUJ-3",
        "outputId": "a36d25b9-3a1d-43bb-fa52-708491a9db88"
      },
      "source": [
        "from google.colab import drive\n",
        "drive.mount('/content/drive')\n",
        "\n"
      ],
      "execution_count": 445,
      "outputs": [
        {
          "output_type": "stream",
          "text": [
            "Drive already mounted at /content/drive; to attempt to forcibly remount, call drive.mount(\"/content/drive\", force_remount=True).\n"
          ],
          "name": "stdout"
        }
      ]
    },
    {
      "cell_type": "code",
      "metadata": {
        "id": "eoYKVxDbUXB7"
      },
      "source": [
        "import matplotlib.pyplot as plt\n",
        "import seaborn as sns\n",
        "import pandas as pd\n",
        "import numpy as np"
      ],
      "execution_count": 446,
      "outputs": []
    },
    {
      "cell_type": "code",
      "metadata": {
        "colab": {
          "base_uri": "https://localhost:8080/",
          "height": 1000
        },
        "id": "DbzLSHstUaFO",
        "outputId": "43b84cff-5725-45ca-aa42-f91d3554d584"
      },
      "source": [
        "\n",
        "df=pd.read_csv('/content/Jan 2021 Data - Viz5 Gender Inequality and HIVAIDS.csv',  encoding='latin-1')\n",
        "df "
      ],
      "execution_count": 447,
      "outputs": [
        {
          "output_type": "execute_result",
          "data": {
            "text/html": [
              "<div>\n",
              "<style scoped>\n",
              "    .dataframe tbody tr th:only-of-type {\n",
              "        vertical-align: middle;\n",
              "    }\n",
              "\n",
              "    .dataframe tbody tr th {\n",
              "        vertical-align: top;\n",
              "    }\n",
              "\n",
              "    .dataframe thead th {\n",
              "        text-align: right;\n",
              "    }\n",
              "</style>\n",
              "<table border=\"1\" class=\"dataframe\">\n",
              "  <thead>\n",
              "    <tr style=\"text-align: right;\">\n",
              "      <th></th>\n",
              "      <th>Country</th>\n",
              "      <th>UNICEF Region</th>\n",
              "      <th>Year</th>\n",
              "      <th>Sex</th>\n",
              "      <th>Age</th>\n",
              "      <th>Estimated incidence rate of new HIV infection per 1 000 uninfected population</th>\n",
              "      <th>Estimated number of annual AIDS related deaths</th>\n",
              "      <th>Estimated number of annual new HIV infections</th>\n",
              "      <th>Estimated number of people living with HIV</th>\n",
              "      <th>Estimated rate of annual AIDS related deaths  per 100 000 population</th>\n",
              "    </tr>\n",
              "  </thead>\n",
              "  <tbody>\n",
              "    <tr>\n",
              "      <th>0</th>\n",
              "      <td>Angola</td>\n",
              "      <td>Eastern and Southern Africa</td>\n",
              "      <td>1990</td>\n",
              "      <td>Female</td>\n",
              "      <td>Age 10-19</td>\n",
              "      <td>0.64</td>\n",
              "      <td>100.0</td>\n",
              "      <td>500.0</td>\n",
              "      <td>860</td>\n",
              "      <td>0.36</td>\n",
              "    </tr>\n",
              "    <tr>\n",
              "      <th>1</th>\n",
              "      <td>Angola</td>\n",
              "      <td>Eastern and Southern Africa</td>\n",
              "      <td>1990</td>\n",
              "      <td>Male</td>\n",
              "      <td>Age 10-19</td>\n",
              "      <td>0.15</td>\n",
              "      <td>100.0</td>\n",
              "      <td>100.0</td>\n",
              "      <td>200</td>\n",
              "      <td>0.07</td>\n",
              "    </tr>\n",
              "    <tr>\n",
              "      <th>2</th>\n",
              "      <td>Angola</td>\n",
              "      <td>Eastern and Southern Africa</td>\n",
              "      <td>1991</td>\n",
              "      <td>Female</td>\n",
              "      <td>Age 10-19</td>\n",
              "      <td>0.75</td>\n",
              "      <td>100.0</td>\n",
              "      <td>500.0</td>\n",
              "      <td>1100</td>\n",
              "      <td>0.42</td>\n",
              "    </tr>\n",
              "    <tr>\n",
              "      <th>3</th>\n",
              "      <td>Angola</td>\n",
              "      <td>Eastern and Southern Africa</td>\n",
              "      <td>1991</td>\n",
              "      <td>Male</td>\n",
              "      <td>Age 10-19</td>\n",
              "      <td>0.17</td>\n",
              "      <td>100.0</td>\n",
              "      <td>200.0</td>\n",
              "      <td>500</td>\n",
              "      <td>0.14</td>\n",
              "    </tr>\n",
              "    <tr>\n",
              "      <th>4</th>\n",
              "      <td>Angola</td>\n",
              "      <td>Eastern and Southern Africa</td>\n",
              "      <td>1992</td>\n",
              "      <td>Female</td>\n",
              "      <td>Age 10-19</td>\n",
              "      <td>0.88</td>\n",
              "      <td>100.0</td>\n",
              "      <td>590.0</td>\n",
              "      <td>1300</td>\n",
              "      <td>0.54</td>\n",
              "    </tr>\n",
              "    <tr>\n",
              "      <th>...</th>\n",
              "      <td>...</td>\n",
              "      <td>...</td>\n",
              "      <td>...</td>\n",
              "      <td>...</td>\n",
              "      <td>...</td>\n",
              "      <td>...</td>\n",
              "      <td>...</td>\n",
              "      <td>...</td>\n",
              "      <td>...</td>\n",
              "      <td>...</td>\n",
              "    </tr>\n",
              "    <tr>\n",
              "      <th>2635</th>\n",
              "      <td>Zimbabwe</td>\n",
              "      <td>Eastern and Southern Africa</td>\n",
              "      <td>2017</td>\n",
              "      <td>Male</td>\n",
              "      <td>Age 10-19</td>\n",
              "      <td>1.66</td>\n",
              "      <td>900.0</td>\n",
              "      <td>1200.0</td>\n",
              "      <td>37000</td>\n",
              "      <td>57.28</td>\n",
              "    </tr>\n",
              "    <tr>\n",
              "      <th>2636</th>\n",
              "      <td>Zimbabwe</td>\n",
              "      <td>Eastern and Southern Africa</td>\n",
              "      <td>2018</td>\n",
              "      <td>Female</td>\n",
              "      <td>Age 10-19</td>\n",
              "      <td>6.05</td>\n",
              "      <td>770.0</td>\n",
              "      <td>4400.0</td>\n",
              "      <td>48000</td>\n",
              "      <td>48.39</td>\n",
              "    </tr>\n",
              "    <tr>\n",
              "      <th>2637</th>\n",
              "      <td>Zimbabwe</td>\n",
              "      <td>Eastern and Southern Africa</td>\n",
              "      <td>2018</td>\n",
              "      <td>Male</td>\n",
              "      <td>Age 10-19</td>\n",
              "      <td>1.46</td>\n",
              "      <td>800.0</td>\n",
              "      <td>1100.0</td>\n",
              "      <td>37000</td>\n",
              "      <td>49.97</td>\n",
              "    </tr>\n",
              "    <tr>\n",
              "      <th>2638</th>\n",
              "      <td>Zimbabwe</td>\n",
              "      <td>Eastern and Southern Africa</td>\n",
              "      <td>2019</td>\n",
              "      <td>Female</td>\n",
              "      <td>Age 10-19</td>\n",
              "      <td>5.99</td>\n",
              "      <td>690.0</td>\n",
              "      <td>4400.0</td>\n",
              "      <td>48000</td>\n",
              "      <td>42.18</td>\n",
              "    </tr>\n",
              "    <tr>\n",
              "      <th>2639</th>\n",
              "      <td>Zimbabwe</td>\n",
              "      <td>Eastern and Southern Africa</td>\n",
              "      <td>2019</td>\n",
              "      <td>Male</td>\n",
              "      <td>Age 10-19</td>\n",
              "      <td>1.43</td>\n",
              "      <td>730.0</td>\n",
              "      <td>1100.0</td>\n",
              "      <td>37000</td>\n",
              "      <td>44.57</td>\n",
              "    </tr>\n",
              "  </tbody>\n",
              "</table>\n",
              "<p>2640 rows × 10 columns</p>\n",
              "</div>"
            ],
            "text/plain": [
              "       Country  ... Estimated rate of annual AIDS related deaths  per 100 000 population \n",
              "0       Angola  ...                                               0.36                   \n",
              "1       Angola  ...                                               0.07                   \n",
              "2       Angola  ...                                               0.42                   \n",
              "3       Angola  ...                                               0.14                   \n",
              "4       Angola  ...                                               0.54                   \n",
              "...        ...  ...                                                ...                   \n",
              "2635  Zimbabwe  ...                                              57.28                   \n",
              "2636  Zimbabwe  ...                                              48.39                   \n",
              "2637  Zimbabwe  ...                                              49.97                   \n",
              "2638  Zimbabwe  ...                                              42.18                   \n",
              "2639  Zimbabwe  ...                                              44.57                   \n",
              "\n",
              "[2640 rows x 10 columns]"
            ]
          },
          "metadata": {},
          "execution_count": 447
        }
      ]
    },
    {
      "cell_type": "code",
      "metadata": {
        "colab": {
          "base_uri": "https://localhost:8080/"
        },
        "id": "J86B9QwFYsiN",
        "outputId": "188fa76d-9f2b-417e-9ae7-c42bb05e4fb2"
      },
      "source": [
        "df['Country'].value_counts() # I wanted to know the list of countries which are included in the dataset"
      ],
      "execution_count": 448,
      "outputs": [
        {
          "output_type": "execute_result",
          "data": {
            "text/plain": [
              "Gambia                              60\n",
              "United Republic of Tanzania         60\n",
              "Niger                               60\n",
              "Mauritius                           60\n",
              "Central African Republic            60\n",
              "Burkina Faso                        60\n",
              "Liberia                             60\n",
              "Madagascar                          60\n",
              "Malawi                              60\n",
              "Burundi                             60\n",
              "Senegal                             60\n",
              "Benin                               60\n",
              "Eritrea                             60\n",
              "Congo                               60\n",
              "Zambia                              60\n",
              "Mali                                60\n",
              "Mauritania                          60\n",
              "Eswatini                            60\n",
              "Chad                                60\n",
              "South Africa                        60\n",
              "Mozambique                          60\n",
              "Equatorial Guinea                   60\n",
              "Democratic Republic of the Congo    60\n",
              "Djibouti                            60\n",
              "Lesotho                             60\n",
              "Cameroon                            60\n",
              "Kenya                               60\n",
              "Guinea-Bissau                       60\n",
              "Guinea                              60\n",
              "South Sudan                         60\n",
              "Somalia                             60\n",
              "Ethiopia                            60\n",
              "Togo                                60\n",
              "Rwanda                              60\n",
              "Sudan                               60\n",
              "Angola                              60\n",
              "Sierra Leone                        60\n",
              "Ghana                               60\n",
              "Nigeria                             60\n",
              "Côte d'Ivoire                       60\n",
              "Namibia                             60\n",
              "Zimbabwe                            60\n",
              "Uganda                              60\n",
              "Gabon                               60\n",
              "Name: Country, dtype: int64"
            ]
          },
          "metadata": {},
          "execution_count": 448
        }
      ]
    },
    {
      "cell_type": "code",
      "metadata": {
        "colab": {
          "base_uri": "https://localhost:8080/"
        },
        "id": "aTOerLjsZDnp",
        "outputId": "31063eac-d968-43cf-82cb-8c92faae7559"
      },
      "source": [
        "# As we can see, each country has repeated 60 times in the dataset, but repitition can't be removed because it contains important imformation\n",
        "df['UNICEF Region'].value_counts() # dataset has only African continent, which is central point of my project research"
      ],
      "execution_count": 449,
      "outputs": [
        {
          "output_type": "execute_result",
          "data": {
            "text/plain": [
              "West and Central Africa        1320\n",
              "Eastern and Southern Africa    1320\n",
              "Name: UNICEF Region, dtype: int64"
            ]
          },
          "metadata": {},
          "execution_count": 449
        }
      ]
    },
    {
      "cell_type": "code",
      "metadata": {
        "colab": {
          "base_uri": "https://localhost:8080/"
        },
        "id": "fdikKW5aZole",
        "outputId": "35c0bbaf-67b7-4c52-e40e-ae07f1ce4dda"
      },
      "source": [
        "df['Age'].value_counts() # we can only 'Age 10-19' in the dataset"
      ],
      "execution_count": 450,
      "outputs": [
        {
          "output_type": "execute_result",
          "data": {
            "text/plain": [
              "Age 10-19    2640\n",
              "Name: Age, dtype: int64"
            ]
          },
          "metadata": {},
          "execution_count": 450
        }
      ]
    },
    {
      "cell_type": "code",
      "metadata": {
        "colab": {
          "base_uri": "https://localhost:8080/",
          "height": 493
        },
        "id": "mUMKfWbefPFR",
        "outputId": "96143705-e83a-4d9e-ffa4-b51adb9d86a0"
      },
      "source": [
        "df = df.rename(columns={'UNICEF Region': 'UNICEF_Region'})\n",
        "df.head()"
      ],
      "execution_count": 451,
      "outputs": [
        {
          "output_type": "execute_result",
          "data": {
            "text/html": [
              "<div>\n",
              "<style scoped>\n",
              "    .dataframe tbody tr th:only-of-type {\n",
              "        vertical-align: middle;\n",
              "    }\n",
              "\n",
              "    .dataframe tbody tr th {\n",
              "        vertical-align: top;\n",
              "    }\n",
              "\n",
              "    .dataframe thead th {\n",
              "        text-align: right;\n",
              "    }\n",
              "</style>\n",
              "<table border=\"1\" class=\"dataframe\">\n",
              "  <thead>\n",
              "    <tr style=\"text-align: right;\">\n",
              "      <th></th>\n",
              "      <th>Country</th>\n",
              "      <th>UNICEF_Region</th>\n",
              "      <th>Year</th>\n",
              "      <th>Sex</th>\n",
              "      <th>Age</th>\n",
              "      <th>Estimated incidence rate of new HIV infection per 1 000 uninfected population</th>\n",
              "      <th>Estimated number of annual AIDS related deaths</th>\n",
              "      <th>Estimated number of annual new HIV infections</th>\n",
              "      <th>Estimated number of people living with HIV</th>\n",
              "      <th>Estimated rate of annual AIDS related deaths  per 100 000 population</th>\n",
              "    </tr>\n",
              "  </thead>\n",
              "  <tbody>\n",
              "    <tr>\n",
              "      <th>0</th>\n",
              "      <td>Angola</td>\n",
              "      <td>Eastern and Southern Africa</td>\n",
              "      <td>1990</td>\n",
              "      <td>Female</td>\n",
              "      <td>Age 10-19</td>\n",
              "      <td>0.64</td>\n",
              "      <td>100.0</td>\n",
              "      <td>500.0</td>\n",
              "      <td>860</td>\n",
              "      <td>0.36</td>\n",
              "    </tr>\n",
              "    <tr>\n",
              "      <th>1</th>\n",
              "      <td>Angola</td>\n",
              "      <td>Eastern and Southern Africa</td>\n",
              "      <td>1990</td>\n",
              "      <td>Male</td>\n",
              "      <td>Age 10-19</td>\n",
              "      <td>0.15</td>\n",
              "      <td>100.0</td>\n",
              "      <td>100.0</td>\n",
              "      <td>200</td>\n",
              "      <td>0.07</td>\n",
              "    </tr>\n",
              "    <tr>\n",
              "      <th>2</th>\n",
              "      <td>Angola</td>\n",
              "      <td>Eastern and Southern Africa</td>\n",
              "      <td>1991</td>\n",
              "      <td>Female</td>\n",
              "      <td>Age 10-19</td>\n",
              "      <td>0.75</td>\n",
              "      <td>100.0</td>\n",
              "      <td>500.0</td>\n",
              "      <td>1100</td>\n",
              "      <td>0.42</td>\n",
              "    </tr>\n",
              "    <tr>\n",
              "      <th>3</th>\n",
              "      <td>Angola</td>\n",
              "      <td>Eastern and Southern Africa</td>\n",
              "      <td>1991</td>\n",
              "      <td>Male</td>\n",
              "      <td>Age 10-19</td>\n",
              "      <td>0.17</td>\n",
              "      <td>100.0</td>\n",
              "      <td>200.0</td>\n",
              "      <td>500</td>\n",
              "      <td>0.14</td>\n",
              "    </tr>\n",
              "    <tr>\n",
              "      <th>4</th>\n",
              "      <td>Angola</td>\n",
              "      <td>Eastern and Southern Africa</td>\n",
              "      <td>1992</td>\n",
              "      <td>Female</td>\n",
              "      <td>Age 10-19</td>\n",
              "      <td>0.88</td>\n",
              "      <td>100.0</td>\n",
              "      <td>590.0</td>\n",
              "      <td>1300</td>\n",
              "      <td>0.54</td>\n",
              "    </tr>\n",
              "  </tbody>\n",
              "</table>\n",
              "</div>"
            ],
            "text/plain": [
              "  Country  ... Estimated rate of annual AIDS related deaths  per 100 000 population \n",
              "0  Angola  ...                                               0.36                   \n",
              "1  Angola  ...                                               0.07                   \n",
              "2  Angola  ...                                               0.42                   \n",
              "3  Angola  ...                                               0.14                   \n",
              "4  Angola  ...                                               0.54                   \n",
              "\n",
              "[5 rows x 10 columns]"
            ]
          },
          "metadata": {},
          "execution_count": 451
        }
      ]
    },
    {
      "cell_type": "code",
      "metadata": {
        "colab": {
          "base_uri": "https://localhost:8080/",
          "height": 818
        },
        "id": "xbU5t7Ogdszf",
        "outputId": "c5ab595f-f917-4199-b2cf-f0dab3cdfe2c"
      },
      "source": [
        "\n",
        "fig, ax = plt.subplots(figsize=(20, 20))\n",
        "#df = fig.add_subplot(111)\n",
        "sns.boxplot(x='UNICEF_Region', y='Estimated number of people living with HIV',data=df)\n",
        "plt.show() "
      ],
      "execution_count": 452,
      "outputs": [
        {
          "output_type": "display_data",
          "data": {
            "image/png": "[encoded data removed]",
            "text/plain": [
              "<Figure size 1440x1440 with 1 Axes>"
            ]
          },
          "metadata": {
            "needs_background": "light"
          }
        }
      ]
    },
    {
      "cell_type": "code",
      "metadata": {
        "id": "RQjTJfG3gS-2"
      },
      "source": [
        "# Output: 1.as we can see that Eastern and Sounthern Africa has more people living with HIV than the West and Central Africa\n",
        "#2.The average maximum number of people living with HIV in Eastern and Southern Africa is higher than the average maximum number of people living with HIV in West Central Africa\n",
        "#3.There are some outliers in both boxplot"
      ],
      "execution_count": 453,
      "outputs": []
    },
    {
      "cell_type": "code",
      "metadata": {
        "colab": {
          "base_uri": "https://localhost:8080/",
          "height": 493
        },
        "id": "5P1RtsIykqJx",
        "outputId": "86485068-a688-452d-98d7-137a310363ed"
      },
      "source": [
        "df = df.rename(columns={'Estimated incidence rate of new HIV infection per 1000 uninfected population': 'Estimated_incidence_rate_of_new_HIV_infection_per_1000_uninfected_population'})\n",
        "df.head()"
      ],
      "execution_count": 454,
      "outputs": [
        {
          "output_type": "execute_result",
          "data": {
            "text/html": [
              "<div>\n",
              "<style scoped>\n",
              "    .dataframe tbody tr th:only-of-type {\n",
              "        vertical-align: middle;\n",
              "    }\n",
              "\n",
              "    .dataframe tbody tr th {\n",
              "        vertical-align: top;\n",
              "    }\n",
              "\n",
              "    .dataframe thead th {\n",
              "        text-align: right;\n",
              "    }\n",
              "</style>\n",
              "<table border=\"1\" class=\"dataframe\">\n",
              "  <thead>\n",
              "    <tr style=\"text-align: right;\">\n",
              "      <th></th>\n",
              "      <th>Country</th>\n",
              "      <th>UNICEF_Region</th>\n",
              "      <th>Year</th>\n",
              "      <th>Sex</th>\n",
              "      <th>Age</th>\n",
              "      <th>Estimated incidence rate of new HIV infection per 1 000 uninfected population</th>\n",
              "      <th>Estimated number of annual AIDS related deaths</th>\n",
              "      <th>Estimated number of annual new HIV infections</th>\n",
              "      <th>Estimated number of people living with HIV</th>\n",
              "      <th>Estimated rate of annual AIDS related deaths  per 100 000 population</th>\n",
              "    </tr>\n",
              "  </thead>\n",
              "  <tbody>\n",
              "    <tr>\n",
              "      <th>0</th>\n",
              "      <td>Angola</td>\n",
              "      <td>Eastern and Southern Africa</td>\n",
              "      <td>1990</td>\n",
              "      <td>Female</td>\n",
              "      <td>Age 10-19</td>\n",
              "      <td>0.64</td>\n",
              "      <td>100.0</td>\n",
              "      <td>500.0</td>\n",
              "      <td>860</td>\n",
              "      <td>0.36</td>\n",
              "    </tr>\n",
              "    <tr>\n",
              "      <th>1</th>\n",
              "      <td>Angola</td>\n",
              "      <td>Eastern and Southern Africa</td>\n",
              "      <td>1990</td>\n",
              "      <td>Male</td>\n",
              "      <td>Age 10-19</td>\n",
              "      <td>0.15</td>\n",
              "      <td>100.0</td>\n",
              "      <td>100.0</td>\n",
              "      <td>200</td>\n",
              "      <td>0.07</td>\n",
              "    </tr>\n",
              "    <tr>\n",
              "      <th>2</th>\n",
              "      <td>Angola</td>\n",
              "      <td>Eastern and Southern Africa</td>\n",
              "      <td>1991</td>\n",
              "      <td>Female</td>\n",
              "      <td>Age 10-19</td>\n",
              "      <td>0.75</td>\n",
              "      <td>100.0</td>\n",
              "      <td>500.0</td>\n",
              "      <td>1100</td>\n",
              "      <td>0.42</td>\n",
              "    </tr>\n",
              "    <tr>\n",
              "      <th>3</th>\n",
              "      <td>Angola</td>\n",
              "      <td>Eastern and Southern Africa</td>\n",
              "      <td>1991</td>\n",
              "      <td>Male</td>\n",
              "      <td>Age 10-19</td>\n",
              "      <td>0.17</td>\n",
              "      <td>100.0</td>\n",
              "      <td>200.0</td>\n",
              "      <td>500</td>\n",
              "      <td>0.14</td>\n",
              "    </tr>\n",
              "    <tr>\n",
              "      <th>4</th>\n",
              "      <td>Angola</td>\n",
              "      <td>Eastern and Southern Africa</td>\n",
              "      <td>1992</td>\n",
              "      <td>Female</td>\n",
              "      <td>Age 10-19</td>\n",
              "      <td>0.88</td>\n",
              "      <td>100.0</td>\n",
              "      <td>590.0</td>\n",
              "      <td>1300</td>\n",
              "      <td>0.54</td>\n",
              "    </tr>\n",
              "  </tbody>\n",
              "</table>\n",
              "</div>"
            ],
            "text/plain": [
              "  Country  ... Estimated rate of annual AIDS related deaths  per 100 000 population \n",
              "0  Angola  ...                                               0.36                   \n",
              "1  Angola  ...                                               0.07                   \n",
              "2  Angola  ...                                               0.42                   \n",
              "3  Angola  ...                                               0.14                   \n",
              "4  Angola  ...                                               0.54                   \n",
              "\n",
              "[5 rows x 10 columns]"
            ]
          },
          "metadata": {},
          "execution_count": 454
        }
      ]
    },
    {
      "cell_type": "code",
      "metadata": {
        "colab": {
          "base_uri": "https://localhost:8080/",
          "height": 327
        },
        "id": "Gjk1QTjUkhGe",
        "outputId": "f68e646d-86d5-4080-c253-e2718b8b5ba1"
      },
      "source": [
        "fig, ax = plt.subplots(figsize=(80, 30))\n",
        "#df = fig.add_subplot(111)\n",
        "sns.boxplot(x='Country', y='Estimated number of people living with HIV',data=df)\n",
        "plt.show() "
      ],
      "execution_count": 455,
      "outputs": [
        {
          "output_type": "display_data",
          "data": {
            "image/png": "[encoded data removed]",
            "text/plain": [
              "<Figure size 5760x2160 with 1 Axes>"
            ]
          },
          "metadata": {
            "needs_background": "light"
          }
        }
      ]
    },
    {
      "cell_type": "code",
      "metadata": {
        "id": "M7tu4_V-mlLj"
      },
      "source": [
        "#This boxplot shows the Countries with number of people living with HIV infection\n",
        "#Output:1.The maximum number of people living with HIV is in South africa\n",
        "#2.No outliers\n"
      ],
      "execution_count": 456,
      "outputs": []
    },
    {
      "cell_type": "code",
      "metadata": {
        "colab": {
          "base_uri": "https://localhost:8080/",
          "height": 322
        },
        "id": "veYvKKquG65Z",
        "outputId": "0c7ea42b-c1b4-4ee3-d73d-6fe9df8af18d"
      },
      "source": [
        "\n",
        "df= df.groupby('Sex')['Estimated number of people living with HIV'].mean().sort_values()\n",
        "df.plot(kind='bar') "
      ],
      "execution_count": 457,
      "outputs": [
        {
          "output_type": "execute_result",
          "data": {
            "text/plain": [
              "<matplotlib.axes._subplots.AxesSubplot at 0x7f91eb078c90>"
            ]
          },
          "metadata": {},
          "execution_count": 457
        },
        {
          "output_type": "display_data",
          "data": {
            "image/png": "[encoded data removed]",
            "text/plain": [
              "<Figure size 432x288 with 1 Axes>"
            ]
          },
          "metadata": {
            "needs_background": "light"
          }
        }
      ]
    },
    {
      "cell_type": "code",
      "metadata": {
        "id": "uYoj7-HtMr2p"
      },
      "source": [
        "#As we can see the Females have more number of people who have HIV than the males have"
      ],
      "execution_count": 458,
      "outputs": []
    }
  ]
}